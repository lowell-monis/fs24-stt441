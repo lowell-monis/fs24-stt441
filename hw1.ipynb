{
 "cells": [
  {
   "cell_type": "markdown",
   "id": "44c610fb-ba70-4bd8-a3d3-00eeceabfde5",
   "metadata": {},
   "source": [
    "# STT 441: Probability, Section 002, Dr. Yuying Xie\n",
    "## Homework 1 - 09/06/2024\n",
    "\n",
    "This notebook contains the computational work completed by Lowell Monis toward Homework 1.\n",
    "\n",
    "**Question 6.** There are 36 students in the classroom. Assuming each date of the year is equally likely to be the birthday of a student. Calculate the probability that at least two students have the same birthday, using simulation. \n",
    "\n",
    "Run your simulation 1,000,000 times and report how many times at least two students are having the same birthday.\n",
    "\n",
    "***"
   ]
  },
  {
   "cell_type": "markdown",
   "id": "3913b447-4c9f-424c-a064-d6c1b94a5763",
   "metadata": {},
   "source": [
    "### Solution\n",
    "\n",
    "#### Setup\n",
    "\n",
    "To tackle this question, one can utilize random simulations.\n",
    "\n",
    "**Assumption:** Leap years do not exist in this experiment.\n",
    "\n",
    "For this problem, I will be using Python. I will be dividing the code into three functions:\n",
    "\n",
    "1. `generate_class()`: Returns a list representing a classroom with a random integer between 1 and 365 for each student, representing a day of the year. Accepts the number of students in the classroom.\n",
    "2. `run_simulation()`: Runs a single simulation of the Birthday Problem. Accepts a list of the birthdays of the students. Uses the logic that if a list of unique birthdays is created from the input list, and if the length of the new list is less than the length of the original list, it indicates that at least two people shared the same birthday. Returns a Boolean value.\n",
    "3. `run_experiment()`: Accepts the number of students in the classroom and the total number of simulations. Returns the probability by dividing total number of true results by the number of simulations conducted.\n",
    "\n",
    "But before I proceed, I will import the `random` module to facilitate a fair experiment, where each day of the year is equally likely to be a person's birthday. I will also import the `numpy` module to generate the list of unique birthdays using `numpy.unique()`."
   ]
  },
  {
   "cell_type": "code",
   "execution_count": 2,
   "id": "e371b566-4424-432d-8e9d-f74a8d7b80c5",
   "metadata": {},
   "outputs": [],
   "source": [
    "import random\n",
    "import numpy as np"
   ]
  },
  {
   "cell_type": "markdown",
   "id": "0ec52d56-9d1b-4275-82d4-b9e15d9e3636",
   "metadata": {},
   "source": [
    "#### Function 1: `generate_class()`"
   ]
  },
  {
   "cell_type": "code",
   "execution_count": 16,
   "id": "6c5901eb-d606-43c4-90cc-615c0ed81282",
   "metadata": {},
   "outputs": [],
   "source": [
    "def generate_class(n_students):\n",
    "    class_birthdays = []                               # initializes empty list to store generated birthdays\n",
    "    for i in range(n_students):                        # iterates through each student\n",
    "        class_birthdays.append(random.randint(1, 365)) # appends a random birthday to the student\n",
    "    return class_birthdays"
   ]
  },
  {
   "cell_type": "markdown",
   "id": "9d99bb3f-ea49-4e4b-9244-dd533e609411",
   "metadata": {},
   "source": [
    "#### Function 2: `run_simulation()`"
   ]
  },
  {
   "cell_type": "code",
   "execution_count": 15,
   "id": "b4e1ae3e-eabe-45ce-966c-2e8b3b6b45a4",
   "metadata": {},
   "outputs": [],
   "source": [
    "def run_simulation(birthdays):\n",
    "    unique_birthdays = np.unique(birthdays)            # creates a new list with the unique birthday from the original list\n",
    "    if len(unique_birthdays) < len(birthdays):         # checks if the new list reduces in length to verify for shared birthdays and returns boolean\n",
    "        return True\n",
    "    else:\n",
    "        return False"
   ]
  },
  {
   "cell_type": "markdown",
   "id": "aabfb508-4d55-4d6a-bfa6-ff14e491dc33",
   "metadata": {},
   "source": [
    "#### Function 3: `run_experiment()`"
   ]
  },
  {
   "cell_type": "code",
   "execution_count": 17,
   "id": "5b0c290e-eb67-4354-90ca-b14ee63ee230",
   "metadata": {},
   "outputs": [],
   "source": [
    "def run_experiment(n_simulations, n_students):\n",
    "    count_true_scenarios = 0                           # initializing variable to store the number of true results\n",
    "    for i in range(n_simulations):                     # iterating through each simulation\n",
    "        if run_simulation(generate_class(n_students)): # generating a classroom and running the simulation on it\n",
    "            count_true_scenarios += 1\n",
    "    return count_true_scenarios/n_simulations          # returning probability"
   ]
  },
  {
   "cell_type": "markdown",
   "id": "fd12e98f-e0aa-4f74-9803-1d332295022e",
   "metadata": {},
   "source": [
    "#### Calculating the probability"
   ]
  },
  {
   "cell_type": "code",
   "execution_count": 13,
   "id": "e5546df5-30a1-43db-9d01-c7210e6d8edf",
   "metadata": {},
   "outputs": [
    {
     "name": "stdout",
     "output_type": "stream",
     "text": [
      "The probability that at least two students share the same birthday in a classroom of 36 in an experiment with 1000000 is 0.832337\n"
     ]
    }
   ],
   "source": [
    "# This cell will take time to run.\n",
    "\n",
    "number_of_students = 36\n",
    "number_of_simulations = 1000000\n",
    "\n",
    "probability = run_experiment(number_of_simulations, number_of_students)\n",
    "\n",
    "print(\"The probability that at least two students share the same birthday in a classroom of\", number_of_students, \"in an experiment with\", number_of_simulations, \"is\", probability)"
   ]
  },
  {
   "cell_type": "markdown",
   "id": "ac4cc57f-f31d-4a3e-9942-3ac9b3a697be",
   "metadata": {},
   "source": [
    "***\n",
    "\n",
    "The probability is around 83% in each run of the experiment, thus imitating the results of the theoretical calculation. Hence, the simulations verify the result. (q.e.d.)\n",
    "\n",
    "***"
   ]
  }
 ],
 "metadata": {
  "kernelspec": {
   "display_name": "Python 3.11 (default)",
   "language": "python",
   "name": "python3"
  },
  "language_info": {
   "codemirror_mode": {
    "name": "ipython",
    "version": 3
   },
   "file_extension": ".py",
   "mimetype": "text/x-python",
   "name": "python",
   "nbconvert_exporter": "python",
   "pygments_lexer": "ipython3",
   "version": "3.11.9"
  }
 },
 "nbformat": 4,
 "nbformat_minor": 5
}
