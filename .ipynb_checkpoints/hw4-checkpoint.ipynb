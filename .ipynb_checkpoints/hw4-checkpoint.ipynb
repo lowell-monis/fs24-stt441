{
 "cells": [
  {
   "cell_type": "markdown",
   "id": "6b934d85-0040-44cc-a761-bc0bd2bb3b67",
   "metadata": {},
   "source": [
    "# STT 441: Probability, Section 002, Dr. Yuying Xie\n",
    "## Homework 4 - 09/27/2024\n",
    "\n",
    "This notebook contains the computational work completed by Lowell Monis toward Homework 4.\n",
    "\n",
    "**Question 8.** Write codes to calculate the empirical probability of the following scenarios. Repeat each experiment for 10,000 simulations.\n",
    "\n",
    "An urn contains 12 balls: 5 white, 4 green and 3 red.\n",
    "\n",
    "1. We draw 3 balls with replacement. Find the probability that we will see all three colors.\n",
    "2. We draw 3 balls with replacement. Find the probability that we will see two white and one red.\n",
    "3. We draw 3 balls without replacement. Find the probability that we will see all three colors.\n",
    "4. We draw 3 balls without replacement. Find the probability that we will see two white and one red.\n",
    "\n",
    "***"
   ]
  },
  {
   "cell_type": "markdown",
   "id": "4d0f959c-25fe-4467-b3d0-989c9fc0196c",
   "metadata": {},
   "source": [
    "### Solution\n",
    "\n",
    "#### Setup\n",
    "\n",
    "To tackle this question, one can utilize random simulations.\n",
    "\n",
    "**Assumption:** Probability that no one gets their own hat tends to $e^-1$.\n",
    "\n",
    "**Theory:** \n",
    "\n",
    "For this problem, I will be using Python. I will be using functions since it will be easier to use functions systematically.\n",
    "\n",
    "But before I proceed, I will import the `random` module to aid with the selection from the digital urn. For cases with replacement, I will use `random.choice()`, which chooses random elements from an iterable data type, while for cases without replacement, I will use `random.sample()`, which samples out a certain number of random elements, thus not replacing any of the elements after choosing them."
   ]
  },
  {
   "cell_type": "code",
   "execution_count": 2,
   "id": "fcb9c33e-177f-4081-9115-307b235d829f",
   "metadata": {},
   "outputs": [
    {
     "name": "stdout",
     "output_type": "stream",
     "text": [
      "Probability of seeing all three colors with replacement: 0.2053\n",
      "Probability of seeing two white and one red with replacement: 0.1277\n",
      "Probability of seeing all three colors without replacement: 0.2736\n",
      "Probability of seeing two white and one red without replacement: 0.1368\n"
     ]
    }
   ],
   "source": [
    "import random\n",
    "\n",
    "def draw_with_replacement(urn, draws):\n",
    "    return [random.choice(urn) for _ in range(draws)]\n",
    "\n",
    "def prob_all_three_colors_replacement(trials=10000):\n",
    "    urn = ['white'] * 5 + ['green'] * 4 + ['red'] * 3\n",
    "    success = 0\n",
    "    for _ in range(trials):\n",
    "        drawn = draw_with_replacement(urn, 3)\n",
    "        if 'white' in drawn and 'green' in drawn and 'red' in drawn:\n",
    "            success += 1\n",
    "    return success / trials\n",
    "\n",
    "# Calculate and print the probability\n",
    "print(f\"Probability of seeing all three colors with replacement: {prob_all_three_colors_replacement():.4f}\")\n",
    "\n",
    "def prob_two_white_one_red_replacement(trials=10000):\n",
    "    urn = ['white'] * 5 + ['green'] * 4 + ['red'] * 3\n",
    "    success = 0\n",
    "    for _ in range(trials):\n",
    "        drawn = draw_with_replacement(urn, 3)\n",
    "        if drawn.count('white') == 2 and drawn.count('red') == 1:\n",
    "            success += 1\n",
    "    return success / trials\n",
    "\n",
    "# Calculate and print the probability\n",
    "print(f\"Probability of seeing two white and one red with replacement: {prob_two_white_one_red_replacement():.4f}\")\n",
    "\n",
    "def draw_without_replacement(urn, draws):\n",
    "    return random.sample(urn, draws)\n",
    "\n",
    "def prob_all_three_colors_no_replacement(trials=10000):\n",
    "    urn = ['white'] * 5 + ['green'] * 4 + ['red'] * 3\n",
    "    success = 0\n",
    "    for _ in range(trials):\n",
    "        drawn = draw_without_replacement(urn, 3)\n",
    "        if 'white' in drawn and 'green' in drawn and 'red' in drawn:\n",
    "            success += 1\n",
    "    return success / trials\n",
    "\n",
    "# Calculate and print the probability\n",
    "print(f\"Probability of seeing all three colors without replacement: {prob_all_three_colors_no_replacement():.4f}\")\n",
    "\n",
    "def prob_two_white_one_red_no_replacement(trials=10000):\n",
    "    urn = ['white'] * 5 + ['green'] * 4 + ['red'] * 3\n",
    "    success = 0\n",
    "    for _ in range(trials):\n",
    "        drawn = draw_without_replacement(urn, 3)\n",
    "        if drawn.count('white') == 2 and drawn.count('red') == 1:\n",
    "            success += 1\n",
    "    return success / trials\n",
    "\n",
    "# Calculate and print the probability\n",
    "print(f\"Probability of seeing two white and one red without replacement: {prob_two_white_one_red_no_replacement():.4f}\")"
   ]
  },
  {
   "cell_type": "markdown",
   "id": "c7c0ce77-91f5-471d-aa55-46ac7dcebf5a",
   "metadata": {},
   "source": [
    "***\n",
    "#### Result\n",
    "\n",
    "The probability is approximately $0.368$ in each run of the experiment, and gets closer to the value of $e^{-1}$ with an increase in the sample size, thus verifying the theoretical assumption that the probability approaches $e^{-1}$, and thus the existence of a limit. This experiment also proves that a larger sample size tends to give more accurate results. Hence, the simulations verify the result. (q.e.d.) $\\blacksquare$\n",
    "\n",
    "***"
   ]
  },
  {
   "cell_type": "markdown",
   "id": "ead98847-f5dc-4b6a-b401-1b847aebb5a9",
   "metadata": {},
   "source": [
    "### References\n",
    "\n",
    "[1] D. F. Anderson, T. Seppäläinen, and B. Valkó, *Introduction to Probability.* Cambridge: Cambridge University Press, 2017. "
   ]
  }
 ],
 "metadata": {
  "kernelspec": {
   "display_name": "Python 3.11 (default)",
   "language": "python",
   "name": "python3"
  },
  "language_info": {
   "codemirror_mode": {
    "name": "ipython",
    "version": 3
   },
   "file_extension": ".py",
   "mimetype": "text/x-python",
   "name": "python",
   "nbconvert_exporter": "python",
   "pygments_lexer": "ipython3",
   "version": "3.11.9"
  }
 },
 "nbformat": 4,
 "nbformat_minor": 5
}
