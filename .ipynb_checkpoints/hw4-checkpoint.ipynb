{
 "cells": [
  {
   "cell_type": "markdown",
   "id": "6b934d85-0040-44cc-a761-bc0bd2bb3b67",
   "metadata": {},
   "source": [
    "# STT 441: Probability, Section 002, Dr. Yuying Xie\n",
    "## Homework 4 - 09/27/2024\n",
    "\n",
    "This notebook contains the computational work completed by Lowell Monis toward Homework 4.\n",
    "\n",
    "**Question 8.** Write codes to calculate the empirical probability of the following scenarios. Repeat each experiment for 10,000 simulations.\n",
    "\n",
    "An urn contains 12 balls: 5 white, 4 green and 3 red.\n",
    "\n",
    "1. We draw 3 balls with replacement. Find the probability that we will see all three colors.\n",
    "2. We draw 3 balls with replacement. Find the probability that we will see two white and one red.\n",
    "3. We draw 3 balls without replacement. Find the probability that we will see all three colors.\n",
    "4. We draw 3 balls without replacement. Find the probability that we will see two white and one red.\n",
    "\n",
    "***"
   ]
  },
  {
   "cell_type": "markdown",
   "id": "4d0f959c-25fe-4467-b3d0-989c9fc0196c",
   "metadata": {},
   "source": [
    "### Solution\n",
    "\n",
    "#### Setup\n",
    "\n",
    "To tackle this question, one can utilize random simulations.\n",
    "\n",
    "For this problem, I will be using Python. I will be using functions since it will be easier to use functions systematically.\n",
    "\n",
    "But before I proceed, I will import the `random` module to aid with the selection from the digital urn. For cases with replacement, I will use `random.choice()`, which chooses random elements from an iterable data type. In contrast, I will use `random.sample()` for cases without replacement, which samples out a certain number of random elements, thus not replacing any of the elements after choosing them."
   ]
  },
  {
   "cell_type": "code",
   "execution_count": 5,
   "id": "29ffab12-a83e-44d0-979e-e66f977393f7",
   "metadata": {},
   "outputs": [],
   "source": [
    "import random"
   ]
  },
  {
   "cell_type": "markdown",
   "id": "a4d2420c-16fb-49bd-b826-755af0435d9a",
   "metadata": {},
   "source": [
    "#### Draw Functions\n",
    "\n",
    "I first define functions to conduct drawing with and without replacement."
   ]
  },
  {
   "cell_type": "code",
   "execution_count": 7,
   "id": "2b5eb3d1-363c-4a91-99f2-f0f62f8ba486",
   "metadata": {},
   "outputs": [],
   "source": [
    "def draw_replacement(urn, n_draws):\n",
    "    return [random.choice(urn) for _ in range(n_draws)]\n",
    "\n",
    "def draw_without_replacement(urn, n_draws):\n",
    "    return random.sample(urn, n_draws)"
   ]
  },
  {
   "cell_type": "markdown",
   "id": "b949dccb-b811-4d91-bb2f-17a427dfd4e2",
   "metadata": {},
   "source": [
    "#### Experiment Functions\n",
    "\n",
    "I then define functions conducting the experiment for each of the two types of questions. The functions will have four input parameters: the urn, the number of draws per trial, the number of trials (default is 10,000), and whether replacement is being used or no."
   ]
  },
  {
   "cell_type": "code",
   "execution_count": 18,
   "id": "160ad607-5d27-4d2b-8569-74f5c8db8573",
   "metadata": {},
   "outputs": [],
   "source": [
    "# function for probability of drawing all three colors.\n",
    "\n",
    "def prob_1w1r1g(urn, draw, replacement, trials=10000):\n",
    "    success = 0\n",
    "    for _ in range(trials):\n",
    "        if replacement:\n",
    "            drawn = draw_replacement(urn, draw)\n",
    "        else:\n",
    "            drawn = draw_without_replacement(urn, draw)\n",
    "\n",
    "        # checks for successful case\n",
    "        if ('white' in drawn) and ('green' in drawn) and ('red' in drawn):\n",
    "                success += 1\n",
    "    return success / trials\n",
    "\n",
    "# function for probability of drawing two white balls and 1 red ball\n",
    "\n",
    "def prob_2w1r(urn, draw, replacement, trials=10000):\n",
    "    success = 0\n",
    "    for _ in range(trials):\n",
    "        if replacement:\n",
    "            drawn = draw_replacement(urn, draw)\n",
    "        else:\n",
    "            drawn = draw_without_replacement(urn, draw)\n",
    "\n",
    "        # checks for successful cases\n",
    "        if drawn.count('white') == 2 and drawn.count('red') == 1:\n",
    "            success += 1\n",
    "    return success / trials"
   ]
  },
  {
   "cell_type": "markdown",
   "id": "e911f249-4950-4241-8be7-0d8fc19ddd89",
   "metadata": {},
   "source": [
    "#### Creating the conditions\n",
    "\n",
    "I now create the digital urn."
   ]
  },
  {
   "cell_type": "code",
   "execution_count": 9,
   "id": "4d76b964-4a64-48f8-8286-bbb2a6780e5d",
   "metadata": {},
   "outputs": [],
   "source": [
    "urn = ['white'] * 5 + ['green'] * 4 + ['red'] * 3"
   ]
  },
  {
   "cell_type": "markdown",
   "id": "c6c39c1a-4ae4-4157-9d25-a8623142ca1f",
   "metadata": {},
   "source": [
    "#### Computing the solutions\n",
    "\n",
    "##### (a) With replacement, seeing all three colors"
   ]
  },
  {
   "cell_type": "code",
   "execution_count": 20,
   "id": "2bd30176-f3a9-4046-9b79-74569cc0b30e",
   "metadata": {},
   "outputs": [
    {
     "data": {
      "text/plain": [
       "0.2066"
      ]
     },
     "execution_count": 20,
     "metadata": {},
     "output_type": "execute_result"
    }
   ],
   "source": [
    "prob_1w1r1g(urn, 3, True)"
   ]
  },
  {
   "cell_type": "markdown",
   "id": "3162293c-6763-4752-8bed-00f429fbf0e8",
   "metadata": {},
   "source": [
    "##### (b) With replacement, seeing two white and one red ball"
   ]
  },
  {
   "cell_type": "code",
   "execution_count": 21,
   "id": "b9aa10dc-9a01-4d58-88d3-f8d32ee42de5",
   "metadata": {},
   "outputs": [
    {
     "data": {
      "text/plain": [
       "0.1274"
      ]
     },
     "execution_count": 21,
     "metadata": {},
     "output_type": "execute_result"
    }
   ],
   "source": [
    "prob_2w1r(urn, 3, True)"
   ]
  },
  {
   "cell_type": "markdown",
   "id": "312fdc76-bf22-4d2e-9040-f8ac0198182e",
   "metadata": {},
   "source": [
    "##### (c) Without replacement, seeing all three colors"
   ]
  },
  {
   "cell_type": "code",
   "execution_count": 22,
   "id": "69856b8a-9b5c-4129-b58c-57b2dbbed431",
   "metadata": {},
   "outputs": [
    {
     "data": {
      "text/plain": [
       "0.2754"
      ]
     },
     "execution_count": 22,
     "metadata": {},
     "output_type": "execute_result"
    }
   ],
   "source": [
    "prob_1w1r1g(urn, 3, False)"
   ]
  },
  {
   "cell_type": "markdown",
   "id": "cddb9abd-c991-436e-946a-6ff42e08a6ff",
   "metadata": {},
   "source": [
    "##### (d) Without replacement, seeing two white and one red ball"
   ]
  },
  {
   "cell_type": "code",
   "execution_count": 23,
   "id": "0220671a-dfa1-4bed-ba44-f076b12da33d",
   "metadata": {},
   "outputs": [
    {
     "data": {
      "text/plain": [
       "0.1335"
      ]
     },
     "execution_count": 23,
     "metadata": {},
     "output_type": "execute_result"
    }
   ],
   "source": [
    "prob_2w1r(urn, 3, False)"
   ]
  },
  {
   "cell_type": "markdown",
   "id": "c7c0ce77-91f5-471d-aa55-46ac7dcebf5a",
   "metadata": {},
   "source": [
    "***\n",
    "#### Result\n",
    "\n",
    "The empirical probability has been computed above for each of the four cases.\n",
    "\n",
    "***"
   ]
  }
 ],
 "metadata": {
  "kernelspec": {
   "display_name": "Python 3.11 (default)",
   "language": "python",
   "name": "python3"
  },
  "language_info": {
   "codemirror_mode": {
    "name": "ipython",
    "version": 3
   },
   "file_extension": ".py",
   "mimetype": "text/x-python",
   "name": "python",
   "nbconvert_exporter": "python",
   "pygments_lexer": "ipython3",
   "version": "3.11.9"
  }
 },
 "nbformat": 4,
 "nbformat_minor": 5
}
