{
 "cells": [
  {
   "cell_type": "markdown",
   "id": "6b934d85-0040-44cc-a761-bc0bd2bb3b67",
   "metadata": {},
   "source": [
    "# STT 441: Probability, Section 002, Dr. Yuying Xie\n",
    "## Homework 5 - 10/04/2024\n",
    "\n",
    "This notebook contains the computational work completed by Lowell Monis toward Homework 5.\n",
    "\n",
    "**Question 8.** You draw 5 cards without replacement. What is the probability of getting a full house hand from a deck of 52 cards? A full house is when you draw five cards such that three of them are of the same rank, while the other two are of a different rank. Within the same rank, the cards should be of the same suit.\n",
    "\n",
    "Simulate this experiment 10,000 times.\n",
    "\n",
    "***"
   ]
  },
  {
   "cell_type": "markdown",
   "id": "4d0f959c-25fe-4467-b3d0-989c9fc0196c",
   "metadata": {},
   "source": [
    "### Solution\n",
    "\n",
    "#### Setup\n",
    "\n",
    "To tackle this question, one can utilize random simulations.\n",
    "\n",
    "For this problem, I will be using Python. I will be using functions since it will be easier to use functions systematically.\n",
    "\n",
    "But before I proceed, I will import the `random` module to aid with the selection from the digital deck of cards."
   ]
  },
  {
   "cell_type": "code",
   "execution_count": 1,
   "id": "29ffab12-a83e-44d0-979e-e66f977393f7",
   "metadata": {},
   "outputs": [],
   "source": [
    "import random"
   ]
  },
  {
   "cell_type": "markdown",
   "id": "a4d2420c-16fb-49bd-b826-755af0435d9a",
   "metadata": {},
   "source": [
    "#### Function to draw hand\n",
    "\n",
    "I first define a function to draw a hand of five cards from a deck of 52 cards."
   ]
  },
  {
   "cell_type": "code",
   "execution_count": 2,
   "id": "2b5eb3d1-363c-4a91-99f2-f0f62f8ba486",
   "metadata": {},
   "outputs": [],
   "source": [
    "def draw_hand():\n",
    "    # There are 13 ranks (2 through Ace) and 4 suits for each rank\n",
    "    deck = [(rank, suit) for rank in range(13) for suit in range(4)]\n",
    "    hand = random.sample(deck, 5)  # Draw 5 cards without replacement\n",
    "    return hand"
   ]
  },
  {
   "cell_type": "markdown",
   "id": "b949dccb-b811-4d91-bb2f-17a427dfd4e2",
   "metadata": {},
   "source": [
    "#### Function to check for full house"
   ]
  },
  {
   "cell_type": "code",
   "execution_count": 3,
   "id": "160ad607-5d27-4d2b-8569-74f5c8db8573",
   "metadata": {},
   "outputs": [],
   "source": [
    "def is_full_house(hand):\n",
    "    ranks = [card[0] for card in hand]\n",
    "    rank_counts = {}\n",
    "    \n",
    "    for rank in ranks:\n",
    "        if rank in rank_counts:\n",
    "            rank_counts[rank] += 1\n",
    "        else:\n",
    "            rank_counts[rank] = 1\n",
    "    \n",
    "    counts = sorted(rank_counts.values())\n",
    "    return counts == [2, 3]"
   ]
  },
  {
   "cell_type": "markdown",
   "id": "e911f249-4950-4241-8be7-0d8fc19ddd89",
   "metadata": {},
   "source": [
    "#### Experiment function\n",
    "\n",
    "The function is defaulted to 10,000 trials."
   ]
  },
  {
   "cell_type": "code",
   "execution_count": 4,
   "id": "4d76b964-4a64-48f8-8286-bbb2a6780e5d",
   "metadata": {},
   "outputs": [],
   "source": [
    "def experiment(num_simulations=10000):\n",
    "    full_house_count = 0\n",
    "    for _ in range(num_simulations):\n",
    "        hand = draw_hand()\n",
    "        if is_full_house(hand):\n",
    "            full_house_count += 1\n",
    "    return full_house_count / num_simulations"
   ]
  },
  {
   "cell_type": "markdown",
   "id": "c6c39c1a-4ae4-4157-9d25-a8623142ca1f",
   "metadata": {},
   "source": [
    "#### Running the experiment"
   ]
  },
  {
   "cell_type": "code",
   "execution_count": 16,
   "id": "2bd30176-f3a9-4046-9b79-74569cc0b30e",
   "metadata": {},
   "outputs": [
    {
     "data": {
      "text/plain": [
       "0.0014"
      ]
     },
     "execution_count": 16,
     "metadata": {},
     "output_type": "execute_result"
    }
   ],
   "source": [
    "experiment()"
   ]
  },
  {
   "cell_type": "markdown",
   "id": "3162293c-6763-4752-8bed-00f429fbf0e8",
   "metadata": {},
   "source": [
    "With 10,000 trials, the answer keeps fluctuating due to a lack of simulations to fortify the experiment. (**Warning:** This will take some time.)"
   ]
  },
  {
   "cell_type": "code",
   "execution_count": 18,
   "id": "b9aa10dc-9a01-4d58-88d3-f8d32ee42de5",
   "metadata": {},
   "outputs": [
    {
     "data": {
      "text/plain": [
       "0.001407"
      ]
     },
     "execution_count": 18,
     "metadata": {},
     "output_type": "execute_result"
    }
   ],
   "source": [
    "experiment(1000000)"
   ]
  },
  {
   "cell_type": "markdown",
   "id": "c7c0ce77-91f5-471d-aa55-46ac7dcebf5a",
   "metadata": {
    "jp-MarkdownHeadingCollapsed": true
   },
   "source": [
    "***\n",
    "#### Result\n",
    "\n",
    "When we increase the number of trials, the probability approaches the theoretical amount better. Here, we can see that the probability is around the theoretical value of 0.00144.\n",
    "\n",
    "Hence, verified.\n",
    "\n",
    "***"
   ]
  }
 ],
 "metadata": {
  "kernelspec": {
   "display_name": "Python 3.11 (default)",
   "language": "python",
   "name": "python3"
  },
  "language_info": {
   "codemirror_mode": {
    "name": "ipython",
    "version": 3
   },
   "file_extension": ".py",
   "mimetype": "text/x-python",
   "name": "python",
   "nbconvert_exporter": "python",
   "pygments_lexer": "ipython3",
   "version": "3.11.9"
  }
 },
 "nbformat": 4,
 "nbformat_minor": 5
}
