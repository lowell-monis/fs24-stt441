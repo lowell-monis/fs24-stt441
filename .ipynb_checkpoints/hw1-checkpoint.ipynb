{
 "cells": [
  {
   "cell_type": "markdown",
   "id": "44c610fb-ba70-4bd8-a3d3-00eeceabfde5",
   "metadata": {},
   "source": [
    "# STT 441: Probability, Section 002, Dr. Yuying Xie\n",
    "## Homework 1 - 09/06/2024\n",
    "\n",
    "This notebook contains the computational work completed by Lowell Monis toward Homework 1.\n",
    "\n",
    "**Question 6.** There are 36 students in the classroom. Assuming each date of the year is equally likely to be the birthday of a student. Calculate the probability that at least two students have the same birthday, using simulation. \n",
    "\n",
    "Run your simulation 1,000,000 times and report how many times at least two students are having the same birthday.\n",
    "\n",
    "***"
   ]
  },
  {
   "cell_type": "markdown",
   "id": "3913b447-4c9f-424c-a064-d6c1b94a5763",
   "metadata": {},
   "source": [
    "### Solution\n",
    "\n",
    "#### Setup\n",
    "\n",
    "To tackle this question, one can utilize random simulations.\n",
    "\n",
    "For this problem, I will be using Python. I will be dividing the code into two functions: one to determine if two persons have the same birthday within a single simulation of $n$ individuals, and the other to run the entire experiment of a million simulations.\n",
    "\n",
    "But before I proceed, I will import the `random` module to facilitate a fair experiment, where each day of the year is equally likely to be a person's birthday."
   ]
  },
  {
   "cell_type": "code",
   "execution_count": 1,
   "id": "e371b566-4424-432d-8e9d-f74a8d7b80c5",
   "metadata": {},
   "outputs": [],
   "source": [
    "import random"
   ]
  },
  {
   "cell_type": "markdown",
   "id": "0ec52d56-9d1b-4275-82d4-b9e15d9e3636",
   "metadata": {},
   "source": [
    "#### Function 1: `same_birthday()`"
   ]
  },
  {
   "cell_type": "code",
   "execution_count": null,
   "id": "6c5901eb-d606-43c4-90cc-615c0ed81282",
   "metadata": {},
   "outputs": [],
   "source": [
    "def same_birthday(n_students):\n",
    "    \"\"\"Simulate a group of students and check if any two share the same birthday.\"\"\"\n",
    "    \"\"\"Accepts the number of students in the class and returns boolean True or False.\"\"\"\n",
    "    birthdays = [] # initiates list to contain the birthdays of the students\n",
    "    for i in range(n_students): # iterates through every student\n",
    "        birthday = random.randint(1, 365) # randomly generates a birthday\n",
    "        if birthday in birthdays:\n",
    "            return True\n",
    "        else:\n",
    "            birthdays.append(birthday)\n",
    "            return False"
   ]
  }
 ],
 "metadata": {
  "kernelspec": {
   "display_name": "Python 3.11 (default)",
   "language": "python",
   "name": "python3"
  },
  "language_info": {
   "codemirror_mode": {
    "name": "ipython",
    "version": 3
   },
   "file_extension": ".py",
   "mimetype": "text/x-python",
   "name": "python",
   "nbconvert_exporter": "python",
   "pygments_lexer": "ipython3",
   "version": "3.11.9"
  }
 },
 "nbformat": 4,
 "nbformat_minor": 5
}
