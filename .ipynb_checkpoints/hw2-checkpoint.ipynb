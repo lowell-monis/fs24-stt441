{
 "cells": [
  {
   "cell_type": "markdown",
   "id": "6b934d85-0040-44cc-a761-bc0bd2bb3b67",
   "metadata": {},
   "source": [
    "# STT 441: Probability, Section 002, Dr. Yuying Xie\n",
    "## Homework 2 - 09/13/2024\n",
    "\n",
    "This notebook contains the computational work completed by Lowell Monis toward Homework 2.\n",
    "\n",
    "**Question 8.** If we choose two numbers $X$ and $Y$ equally likely from the interval $[0, 1]$. Using simulation, find the probability that the difference between these two points is less than $0.2$.\n",
    "\n",
    "Simulate 1,000,000 $(X, Y)$ pairs and report the empirical probability that any two points in the interval are closer than $0.2$.\n",
    "\n",
    "***"
   ]
  },
  {
   "cell_type": "markdown",
   "id": "4d0f959c-25fe-4467-b3d0-989c9fc0196c",
   "metadata": {},
   "source": [
    "### Solution\n",
    "\n",
    "#### Setup\n",
    "\n",
    "To tackle this question, one can utilize random simulations.\n",
    "\n",
    "**Assumption:** $X$ and $Y$ are chosen uniformly.\n",
    "\n",
    "For this problem, I will be using Python. I will not be using functions due to the relative simplicity of the problem in computational terms.\n",
    "\n",
    "But before I proceed, I will import the `numpy` module to exploit the vectorization feature of NumPy arrays, and to facilitate a fair experiment by using the `numpy.random.uniform()` function, which returns a uniform distribution at random."
   ]
  },
  {
   "cell_type": "code",
   "execution_count": 14,
   "id": "ac7477a7-8373-46ef-b487-f1b4a9da9a91",
   "metadata": {},
   "outputs": [],
   "source": [
    "import numpy as np"
   ]
  },
  {
   "cell_type": "code",
   "execution_count": 25,
   "id": "fcb9c33e-177f-4081-9115-307b235d829f",
   "metadata": {},
   "outputs": [
    {
     "name": "stdout",
     "output_type": "stream",
     "text": [
      "The empirical probability that any two points in the interval are closer than 0.2 units is: 0.360484\n"
     ]
    }
   ],
   "source": [
    "n_simulations = 1000000 # simulations\n",
    "\n",
    "# generates random pairs of (X, Y) uniformly from the interval [0, 1], returning a million pairs\n",
    "X = np.random.uniform(0, 1, n_simulations)\n",
    "Y = np.random.uniform(0, 1, n_simulations)\n",
    "\n",
    "# calculates the distance between X and Y\n",
    "difference = np.abs(X - Y) # absolute value is found since distance is a scalar, we can subtract corresponding Y values from X values due to NumPy\n",
    "\n",
    "# calculates and prints the empirical probability that the distance is less than 0.2\n",
    "emp_prob = np.mean(difference < 0.2) # average of all uniformly generated differences that are less than 0.2 to simulate the probability\n",
    "print(\"The empirical probability that any two points in the interval are closer than 0.2 units is:\", emp_prob)"
   ]
  },
  {
   "cell_type": "markdown",
   "id": "c7c0ce77-91f5-471d-aa55-46ac7dcebf5a",
   "metadata": {},
   "source": [
    "***\n",
    "#### Result\n",
    "\n",
    "The probability is around 36% in each run of the experiment, thus imitating the results of the theoretical calculation. Hence, the simulations verify the result. (q.e.d.)\n",
    "\n",
    "***"
   ]
  }
 ],
 "metadata": {
  "kernelspec": {
   "display_name": "Python 3.11 (default)",
   "language": "python",
   "name": "python3"
  },
  "language_info": {
   "codemirror_mode": {
    "name": "ipython",
    "version": 3
   },
   "file_extension": ".py",
   "mimetype": "text/x-python",
   "name": "python",
   "nbconvert_exporter": "python",
   "pygments_lexer": "ipython3",
   "version": "3.11.9"
  }
 },
 "nbformat": 4,
 "nbformat_minor": 5
}
