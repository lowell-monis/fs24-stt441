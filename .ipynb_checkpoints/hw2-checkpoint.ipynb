{
 "cells": [
  {
   "cell_type": "code",
   "execution_count": 5,
   "id": "fcb9c33e-177f-4081-9115-307b235d829f",
   "metadata": {},
   "outputs": [
    {
     "data": {
      "text/plain": [
       "0.359786"
      ]
     },
     "execution_count": 5,
     "metadata": {},
     "output_type": "execute_result"
    }
   ],
   "source": [
    "import numpy as np\n",
    "\n",
    "# Number of simulations\n",
    "n_simulations = 1000000\n",
    "\n",
    "# Generate random pairs of (X, Y) uniformly from the interval [0, 1]\n",
    "X = np.random.uniform(0, 1, n_simulations)\n",
    "Y = np.random.uniform(0, 1, n_simulations)\n",
    "\n",
    "# Calculate the distance between X and Y\n",
    "distances = np.abs(X - Y)\n",
    "\n",
    "# Calculate the empirical probability that the distance is less than 0.2\n",
    "empirical_probability = np.mean(distances < 0.2)\n",
    "empirical_probability"
   ]
  }
 ],
 "metadata": {
  "kernelspec": {
   "display_name": "Python 3.11 (default)",
   "language": "python",
   "name": "python3"
  },
  "language_info": {
   "codemirror_mode": {
    "name": "ipython",
    "version": 3
   },
   "file_extension": ".py",
   "mimetype": "text/x-python",
   "name": "python",
   "nbconvert_exporter": "python",
   "pygments_lexer": "ipython3",
   "version": "3.11.9"
  }
 },
 "nbformat": 4,
 "nbformat_minor": 5
}
