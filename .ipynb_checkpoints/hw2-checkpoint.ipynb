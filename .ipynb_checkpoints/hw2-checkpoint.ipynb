{
 "cells": [
  {
   "cell_type": "markdown",
   "id": "6b934d85-0040-44cc-a761-bc0bd2bb3b67",
   "metadata": {},
   "source": [
    "# STT 441: Probability, Section 002, Dr. Yuying Xie\n",
    "## Homework 2 - 09/13/2024\n",
    "\n",
    "This notebook contains the computational work completed by Lowell Monis toward Homework 2.\n",
    "\n",
    "**Question 8.** If we choose two numbers $X$ and $Y$ equally likely from the interval $[0, 1]$. Using simulation, find the probability that the difference between these two points is less than $0.2$.\n",
    "\n",
    "Simulate 1,000,000 $(X, Y)$ pairs and report the empirical probability that any two points in the interval are closer than $0.2$.\n",
    "\n",
    "***"
   ]
  },
  {
   "cell_type": "markdown",
   "id": "4d0f959c-25fe-4467-b3d0-989c9fc0196c",
   "metadata": {},
   "source": [
    "### Solution\n",
    "\n",
    "#### Setup\n",
    "\n",
    "To tackle this question, one can utilize random simulations.\n",
    "\n",
    "**Assumption:** Leap years do not exist in this experiment.\n",
    "\n",
    "For this problem, I will be using Python. I will be dividing the code into three functions:\n",
    "\n",
    "1. `generate_class()`: Returns a list representing a classroom with a random integer between 1 and 365 for each student, representing a day of the year. Accepts the number of students in the classroom.\n",
    "2. `run_simulation()`: Runs a single simulation of the Birthday Problem. Accepts a list of the birthdays of the students. Uses the logic that if a list of unique birthdays is created from the input list, and if the length of the new list is less than the length of the original list, it indicates that at least two people shared the same birthday. Returns a Boolean value.\n",
    "3. `run_experiment()`: Accepts the number of students in the classroom and the total number of simulations. Returns the probability by dividing total number of true results by the number of simulations conducted.\n",
    "\n",
    "But before I proceed, I will import the `random` module to facilitate a fair experiment, where each day of the year is equally likely to be a person's birthday. I will also import the `numpy` module to generate the list of unique birthdays using `numpy.unique()`."
   ]
  },
  {
   "cell_type": "code",
   "execution_count": 2,
   "id": "ac7477a7-8373-46ef-b487-f1b4a9da9a91",
   "metadata": {},
   "outputs": [],
   "source": [
    "import numpy as np"
   ]
  },
  {
   "cell_type": "code",
   "execution_count": 7,
   "id": "fcb9c33e-177f-4081-9115-307b235d829f",
   "metadata": {},
   "outputs": [
    {
     "data": {
      "text/plain": [
       "0.360558"
      ]
     },
     "execution_count": 7,
     "metadata": {},
     "output_type": "execute_result"
    }
   ],
   "source": [
    "n_simulations = 1000000 # simulations\n",
    "\n",
    "# Generate random pairs of (X, Y) uniformly from the interval [0, 1]\n",
    "X = np.random.uniform(0, 1, n_simulations)\n",
    "Y = np.random.uniform(0, 1, n_simulations)\n",
    "\n",
    "# Calculate the distance between X and Y\n",
    "distances = np.abs(X - Y)\n",
    "\n",
    "# Calculate the empirical probability that the distance is less than 0.2\n",
    "empirical_probability = np.mean(distances < 0.2)\n",
    "empirical_probability"
   ]
  }
 ],
 "metadata": {
  "kernelspec": {
   "display_name": "Python 3.11 (default)",
   "language": "python",
   "name": "python3"
  },
  "language_info": {
   "codemirror_mode": {
    "name": "ipython",
    "version": 3
   },
   "file_extension": ".py",
   "mimetype": "text/x-python",
   "name": "python",
   "nbconvert_exporter": "python",
   "pygments_lexer": "ipython3",
   "version": "3.11.9"
  }
 },
 "nbformat": 4,
 "nbformat_minor": 5
}
