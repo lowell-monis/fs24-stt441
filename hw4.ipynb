{
 "cells": [
  {
   "cell_type": "markdown",
   "id": "6b934d85-0040-44cc-a761-bc0bd2bb3b67",
   "metadata": {},
   "source": [
    "# STT 441: Probability, Section 002, Dr. Yuying Xie\n",
    "## Homework 4 - 09/27/2024\n",
    "\n",
    "This notebook contains the computational work completed by Lowell Monis toward Homework 4.\n",
    "\n",
    "**Question 8.** *(Example 1.27, Anderson et. al, Introduction to Probability)* Suppose $n$ people arrive for a show and leave their hats in the cloakroom. Unfortunately, the cloakroom attendant mixes up their hats completely so that each person leaves with a random hat. Let us assume that all $n!$ assignments of hats are equally likely. What is the probability that no one gets their own hat?\n",
    "\n",
    "The answer given in the text is that the probability no person gets their own hat tends to $e^{-1}$.\n",
    "\n",
    "Verify this answer by using simulations to mimic the experiment, by repeating the simulation 1,000,000 times for $n = 3, n = 30, n = 300, n = 3000$ people. Then, calculate the empirical probability that no one gets their own hat.\n",
    "\n",
    "***"
   ]
  },
  {
   "cell_type": "markdown",
   "id": "4d0f959c-25fe-4467-b3d0-989c9fc0196c",
   "metadata": {},
   "source": [
    "### Solution\n",
    "\n",
    "#### Setup\n",
    "\n",
    "To tackle this question, one can utilize random simulations.\n",
    "\n",
    "**Assumption:** Probability that no one gets their own hat tends to $e^-1$.\n",
    "\n",
    "**Theory:** Relationship between a set and it's complement. $P(A^C) = 1 - P(A)$\n",
    "\n",
    "For this problem, I will be using Python. I will be using functions, since it will be easier to use functions as we are testing the same simulation for cases with different numbers of people.\n",
    "\n",
    "But before I proceed, I will import the `numpy` module to exploit the vectorization feature of NumPy arrays, and to facilitate a fair experiment by using the `numpy.random.shuffle()` function, which returns an array with the elements shuffled at random. I will also use `numpy.isclose()` to verify the result with the given answer, and for the value of Euler's number, I will be using `numpy.exp()`.\n",
    "\n",
    "**WARNING:** This experiment will take an absurd amount of time for the $n=3000$ case. Average ETA to result is 8 minutes from the commencement of the program."
   ]
  },
  {
   "cell_type": "code",
   "execution_count": 1,
   "id": "ac7477a7-8373-46ef-b487-f1b4a9da9a91",
   "metadata": {},
   "outputs": [],
   "source": [
    "import numpy as np"
   ]
  },
  {
   "cell_type": "code",
   "execution_count": 2,
   "id": "fcb9c33e-177f-4081-9115-307b235d829f",
   "metadata": {},
   "outputs": [
    {
     "name": "stdout",
     "output_type": "stream",
     "text": [
      "Probability of seeing all three colors with replacement: 0.2053\n",
      "Probability of seeing two white and one red with replacement: 0.1277\n",
      "Probability of seeing all three colors without replacement: 0.2736\n",
      "Probability of seeing two white and one red without replacement: 0.1368\n"
     ]
    }
   ],
   "source": [
    "import random\n",
    "\n",
    "def draw_with_replacement(urn, draws):\n",
    "    return [random.choice(urn) for _ in range(draws)]\n",
    "\n",
    "def prob_all_three_colors_replacement(trials=10000):\n",
    "    urn = ['white'] * 5 + ['green'] * 4 + ['red'] * 3\n",
    "    success = 0\n",
    "    for _ in range(trials):\n",
    "        drawn = draw_with_replacement(urn, 3)\n",
    "        if 'white' in drawn and 'green' in drawn and 'red' in drawn:\n",
    "            success += 1\n",
    "    return success / trials\n",
    "\n",
    "# Calculate and print the probability\n",
    "print(f\"Probability of seeing all three colors with replacement: {prob_all_three_colors_replacement():.4f}\")\n",
    "\n",
    "def prob_two_white_one_red_replacement(trials=10000):\n",
    "    urn = ['white'] * 5 + ['green'] * 4 + ['red'] * 3\n",
    "    success = 0\n",
    "    for _ in range(trials):\n",
    "        drawn = draw_with_replacement(urn, 3)\n",
    "        if drawn.count('white') == 2 and drawn.count('red') == 1:\n",
    "            success += 1\n",
    "    return success / trials\n",
    "\n",
    "# Calculate and print the probability\n",
    "print(f\"Probability of seeing two white and one red with replacement: {prob_two_white_one_red_replacement():.4f}\")\n",
    "\n",
    "def draw_without_replacement(urn, draws):\n",
    "    return random.sample(urn, draws)\n",
    "\n",
    "def prob_all_three_colors_no_replacement(trials=10000):\n",
    "    urn = ['white'] * 5 + ['green'] * 4 + ['red'] * 3\n",
    "    success = 0\n",
    "    for _ in range(trials):\n",
    "        drawn = draw_without_replacement(urn, 3)\n",
    "        if 'white' in drawn and 'green' in drawn and 'red' in drawn:\n",
    "            success += 1\n",
    "    return success / trials\n",
    "\n",
    "# Calculate and print the probability\n",
    "print(f\"Probability of seeing all three colors without replacement: {prob_all_three_colors_no_replacement():.4f}\")\n",
    "\n",
    "def prob_two_white_one_red_no_replacement(trials=10000):\n",
    "    urn = ['white'] * 5 + ['green'] * 4 + ['red'] * 3\n",
    "    success = 0\n",
    "    for _ in range(trials):\n",
    "        drawn = draw_without_replacement(urn, 3)\n",
    "        if drawn.count('white') == 2 and drawn.count('red') == 1:\n",
    "            success += 1\n",
    "    return success / trials\n",
    "\n",
    "# Calculate and print the probability\n",
    "print(f\"Probability of seeing two white and one red without replacement: {prob_two_white_one_red_no_replacement():.4f}\")"
   ]
  },
  {
   "cell_type": "markdown",
   "id": "c7c0ce77-91f5-471d-aa55-46ac7dcebf5a",
   "metadata": {},
   "source": [
    "***\n",
    "#### Result\n",
    "\n",
    "The probability is approximately $0.368$ in each run of the experiment, and gets closer to the value of $e^{-1}$ with an increase in the sample size, thus verifying the theoretical assumption that the probability approaches $e^{-1}$, and thus the existence of a limit. This experiment also proves that a larger sample size tends to give more accurate results. Hence, the simulations verify the result. (q.e.d.) $\\blacksquare$\n",
    "\n",
    "***"
   ]
  },
  {
   "cell_type": "markdown",
   "id": "ead98847-f5dc-4b6a-b401-1b847aebb5a9",
   "metadata": {},
   "source": [
    "### References\n",
    "\n",
    "[1] D. F. Anderson, T. Seppäläinen, and B. Valkó, *Introduction to Probability.* Cambridge: Cambridge University Press, 2017. "
   ]
  }
 ],
 "metadata": {
  "kernelspec": {
   "display_name": "Python 3.11 (default)",
   "language": "python",
   "name": "python3"
  },
  "language_info": {
   "codemirror_mode": {
    "name": "ipython",
    "version": 3
   },
   "file_extension": ".py",
   "mimetype": "text/x-python",
   "name": "python",
   "nbconvert_exporter": "python",
   "pygments_lexer": "ipython3",
   "version": "3.11.9"
  }
 },
 "nbformat": 4,
 "nbformat_minor": 5
}
